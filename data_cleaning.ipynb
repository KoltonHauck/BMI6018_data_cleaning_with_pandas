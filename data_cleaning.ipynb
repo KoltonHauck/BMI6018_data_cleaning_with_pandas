{
 "cells": [
  {
   "cell_type": "markdown",
   "id": "a9505884",
   "metadata": {},
   "source": [
    "### Libraries"
   ]
  },
  {
   "cell_type": "code",
   "execution_count": 1,
   "id": "e190b4e2",
   "metadata": {},
   "outputs": [],
   "source": [
    "import pandas as pd\n",
    "import matplotlib.pyplot as plt\n",
    "import numpy as np"
   ]
  },
  {
   "cell_type": "markdown",
   "id": "7ec25990",
   "metadata": {},
   "source": [
    "### Importing Data"
   ]
  },
  {
   "cell_type": "code",
   "execution_count": 2,
   "id": "a3655d1b",
   "metadata": {},
   "outputs": [
    {
     "data": {
      "text/html": [
       "<div>\n",
       "<style scoped>\n",
       "    .dataframe tbody tr th:only-of-type {\n",
       "        vertical-align: middle;\n",
       "    }\n",
       "\n",
       "    .dataframe tbody tr th {\n",
       "        vertical-align: top;\n",
       "    }\n",
       "\n",
       "    .dataframe thead th {\n",
       "        text-align: right;\n",
       "    }\n",
       "</style>\n",
       "<table border=\"1\" class=\"dataframe\">\n",
       "  <thead>\n",
       "    <tr style=\"text-align: right;\">\n",
       "      <th></th>\n",
       "      <th>year</th>\n",
       "      <th>month</th>\n",
       "      <th>day</th>\n",
       "      <th>dep_time</th>\n",
       "      <th>dep_delay</th>\n",
       "      <th>arr_time</th>\n",
       "      <th>arr_delay</th>\n",
       "      <th>carrier</th>\n",
       "      <th>tailnum</th>\n",
       "      <th>flight</th>\n",
       "      <th>origin</th>\n",
       "      <th>dest</th>\n",
       "      <th>air_time</th>\n",
       "      <th>distance</th>\n",
       "      <th>hour</th>\n",
       "      <th>minute</th>\n",
       "    </tr>\n",
       "  </thead>\n",
       "  <tbody>\n",
       "    <tr>\n",
       "      <th>0</th>\n",
       "      <td>2013</td>\n",
       "      <td>1</td>\n",
       "      <td>1</td>\n",
       "      <td>517.0</td>\n",
       "      <td>2.0</td>\n",
       "      <td>830.0</td>\n",
       "      <td>11.0</td>\n",
       "      <td>UA</td>\n",
       "      <td>N14228</td>\n",
       "      <td>1545</td>\n",
       "      <td>EWR</td>\n",
       "      <td>IAH</td>\n",
       "      <td>227.0</td>\n",
       "      <td>1400</td>\n",
       "      <td>5.0</td>\n",
       "      <td>17.0</td>\n",
       "    </tr>\n",
       "    <tr>\n",
       "      <th>1</th>\n",
       "      <td>2013</td>\n",
       "      <td>1</td>\n",
       "      <td>1</td>\n",
       "      <td>533.0</td>\n",
       "      <td>4.0</td>\n",
       "      <td>850.0</td>\n",
       "      <td>20.0</td>\n",
       "      <td>UA</td>\n",
       "      <td>N24211</td>\n",
       "      <td>1714</td>\n",
       "      <td>LGA</td>\n",
       "      <td>IAH</td>\n",
       "      <td>227.0</td>\n",
       "      <td>1416</td>\n",
       "      <td>5.0</td>\n",
       "      <td>33.0</td>\n",
       "    </tr>\n",
       "    <tr>\n",
       "      <th>2</th>\n",
       "      <td>2013</td>\n",
       "      <td>1</td>\n",
       "      <td>1</td>\n",
       "      <td>542.0</td>\n",
       "      <td>2.0</td>\n",
       "      <td>923.0</td>\n",
       "      <td>33.0</td>\n",
       "      <td>AA</td>\n",
       "      <td>N619AA</td>\n",
       "      <td>1141</td>\n",
       "      <td>JFK</td>\n",
       "      <td>MIA</td>\n",
       "      <td>160.0</td>\n",
       "      <td>1089</td>\n",
       "      <td>5.0</td>\n",
       "      <td>42.0</td>\n",
       "    </tr>\n",
       "    <tr>\n",
       "      <th>3</th>\n",
       "      <td>2013</td>\n",
       "      <td>1</td>\n",
       "      <td>1</td>\n",
       "      <td>544.0</td>\n",
       "      <td>-1.0</td>\n",
       "      <td>1004.0</td>\n",
       "      <td>-18.0</td>\n",
       "      <td>B6</td>\n",
       "      <td>N804JB</td>\n",
       "      <td>725</td>\n",
       "      <td>JFK</td>\n",
       "      <td>BQN</td>\n",
       "      <td>183.0</td>\n",
       "      <td>1576</td>\n",
       "      <td>5.0</td>\n",
       "      <td>44.0</td>\n",
       "    </tr>\n",
       "    <tr>\n",
       "      <th>4</th>\n",
       "      <td>2013</td>\n",
       "      <td>1</td>\n",
       "      <td>1</td>\n",
       "      <td>554.0</td>\n",
       "      <td>-6.0</td>\n",
       "      <td>812.0</td>\n",
       "      <td>-25.0</td>\n",
       "      <td>DL</td>\n",
       "      <td>N668DN</td>\n",
       "      <td>461</td>\n",
       "      <td>LGA</td>\n",
       "      <td>ATL</td>\n",
       "      <td>116.0</td>\n",
       "      <td>762</td>\n",
       "      <td>5.0</td>\n",
       "      <td>54.0</td>\n",
       "    </tr>\n",
       "  </tbody>\n",
       "</table>\n",
       "</div>"
      ],
      "text/plain": [
       "   year  month  day  dep_time  dep_delay  arr_time  arr_delay carrier tailnum  \\\n",
       "0  2013      1    1     517.0        2.0     830.0       11.0      UA  N14228   \n",
       "1  2013      1    1     533.0        4.0     850.0       20.0      UA  N24211   \n",
       "2  2013      1    1     542.0        2.0     923.0       33.0      AA  N619AA   \n",
       "3  2013      1    1     544.0       -1.0    1004.0      -18.0      B6  N804JB   \n",
       "4  2013      1    1     554.0       -6.0     812.0      -25.0      DL  N668DN   \n",
       "\n",
       "   flight origin dest  air_time  distance  hour  minute  \n",
       "0    1545    EWR  IAH     227.0      1400   5.0    17.0  \n",
       "1    1714    LGA  IAH     227.0      1416   5.0    33.0  \n",
       "2    1141    JFK  MIA     160.0      1089   5.0    42.0  \n",
       "3     725    JFK  BQN     183.0      1576   5.0    44.0  \n",
       "4     461    LGA  ATL     116.0       762   5.0    54.0  "
      ]
     },
     "execution_count": 2,
     "metadata": {},
     "output_type": "execute_result"
    }
   ],
   "source": [
    "flights_df = pd.read_csv('flights.csv')\n",
    "flights_df.drop(columns=['Unnamed: 0'], inplace=True)\n",
    "flights_df.head()"
   ]
  },
  {
   "cell_type": "code",
   "execution_count": 3,
   "id": "7e686b36",
   "metadata": {},
   "outputs": [
    {
     "data": {
      "text/html": [
       "<div>\n",
       "<style scoped>\n",
       "    .dataframe tbody tr th:only-of-type {\n",
       "        vertical-align: middle;\n",
       "    }\n",
       "\n",
       "    .dataframe tbody tr th {\n",
       "        vertical-align: top;\n",
       "    }\n",
       "\n",
       "    .dataframe thead th {\n",
       "        text-align: right;\n",
       "    }\n",
       "</style>\n",
       "<table border=\"1\" class=\"dataframe\">\n",
       "  <thead>\n",
       "    <tr style=\"text-align: right;\">\n",
       "      <th></th>\n",
       "      <th>origin</th>\n",
       "      <th>year</th>\n",
       "      <th>month</th>\n",
       "      <th>day</th>\n",
       "      <th>hour</th>\n",
       "      <th>temp</th>\n",
       "      <th>dewp</th>\n",
       "      <th>humid</th>\n",
       "      <th>wind_dir</th>\n",
       "      <th>wind_speed</th>\n",
       "      <th>wind_gust</th>\n",
       "      <th>precip</th>\n",
       "      <th>pressure</th>\n",
       "      <th>visib</th>\n",
       "    </tr>\n",
       "  </thead>\n",
       "  <tbody>\n",
       "    <tr>\n",
       "      <th>0</th>\n",
       "      <td>EWR</td>\n",
       "      <td>2013</td>\n",
       "      <td>1.0</td>\n",
       "      <td>1.0</td>\n",
       "      <td>0.0</td>\n",
       "      <td>37.04</td>\n",
       "      <td>21.92</td>\n",
       "      <td>53.97</td>\n",
       "      <td>230.0</td>\n",
       "      <td>10.35702</td>\n",
       "      <td>11.918651</td>\n",
       "      <td>0.0</td>\n",
       "      <td>1013.9</td>\n",
       "      <td>10.0</td>\n",
       "    </tr>\n",
       "    <tr>\n",
       "      <th>1</th>\n",
       "      <td>EWR</td>\n",
       "      <td>2013</td>\n",
       "      <td>1.0</td>\n",
       "      <td>1.0</td>\n",
       "      <td>1.0</td>\n",
       "      <td>37.04</td>\n",
       "      <td>21.92</td>\n",
       "      <td>53.97</td>\n",
       "      <td>230.0</td>\n",
       "      <td>13.80936</td>\n",
       "      <td>15.891535</td>\n",
       "      <td>0.0</td>\n",
       "      <td>1013.0</td>\n",
       "      <td>10.0</td>\n",
       "    </tr>\n",
       "    <tr>\n",
       "      <th>2</th>\n",
       "      <td>EWR</td>\n",
       "      <td>2013</td>\n",
       "      <td>1.0</td>\n",
       "      <td>1.0</td>\n",
       "      <td>2.0</td>\n",
       "      <td>37.94</td>\n",
       "      <td>21.92</td>\n",
       "      <td>52.09</td>\n",
       "      <td>230.0</td>\n",
       "      <td>12.65858</td>\n",
       "      <td>14.567241</td>\n",
       "      <td>0.0</td>\n",
       "      <td>1012.6</td>\n",
       "      <td>10.0</td>\n",
       "    </tr>\n",
       "    <tr>\n",
       "      <th>3</th>\n",
       "      <td>EWR</td>\n",
       "      <td>2013</td>\n",
       "      <td>1.0</td>\n",
       "      <td>1.0</td>\n",
       "      <td>3.0</td>\n",
       "      <td>37.94</td>\n",
       "      <td>23.00</td>\n",
       "      <td>54.51</td>\n",
       "      <td>230.0</td>\n",
       "      <td>13.80936</td>\n",
       "      <td>15.891535</td>\n",
       "      <td>0.0</td>\n",
       "      <td>1012.7</td>\n",
       "      <td>10.0</td>\n",
       "    </tr>\n",
       "    <tr>\n",
       "      <th>4</th>\n",
       "      <td>EWR</td>\n",
       "      <td>2013</td>\n",
       "      <td>1.0</td>\n",
       "      <td>1.0</td>\n",
       "      <td>4.0</td>\n",
       "      <td>37.94</td>\n",
       "      <td>24.08</td>\n",
       "      <td>57.04</td>\n",
       "      <td>240.0</td>\n",
       "      <td>14.96014</td>\n",
       "      <td>17.215830</td>\n",
       "      <td>0.0</td>\n",
       "      <td>1012.8</td>\n",
       "      <td>10.0</td>\n",
       "    </tr>\n",
       "  </tbody>\n",
       "</table>\n",
       "</div>"
      ],
      "text/plain": [
       "  origin  year  month  day  hour   temp   dewp  humid  wind_dir  wind_speed  \\\n",
       "0    EWR  2013    1.0  1.0   0.0  37.04  21.92  53.97     230.0    10.35702   \n",
       "1    EWR  2013    1.0  1.0   1.0  37.04  21.92  53.97     230.0    13.80936   \n",
       "2    EWR  2013    1.0  1.0   2.0  37.94  21.92  52.09     230.0    12.65858   \n",
       "3    EWR  2013    1.0  1.0   3.0  37.94  23.00  54.51     230.0    13.80936   \n",
       "4    EWR  2013    1.0  1.0   4.0  37.94  24.08  57.04     240.0    14.96014   \n",
       "\n",
       "   wind_gust  precip  pressure  visib  \n",
       "0  11.918651     0.0    1013.9   10.0  \n",
       "1  15.891535     0.0    1013.0   10.0  \n",
       "2  14.567241     0.0    1012.6   10.0  \n",
       "3  15.891535     0.0    1012.7   10.0  \n",
       "4  17.215830     0.0    1012.8   10.0  "
      ]
     },
     "execution_count": 3,
     "metadata": {},
     "output_type": "execute_result"
    }
   ],
   "source": [
    "weather_df = pd.read_csv('weather.csv')\n",
    "weather_df.drop(columns=['Unnamed: 0'], inplace=True)\n",
    "weather_np = weather_df.to_numpy()\n",
    "weather_df.head()"
   ]
  },
  {
   "cell_type": "markdown",
   "id": "42d4b6aa",
   "metadata": {},
   "source": [
    "### Questions"
   ]
  },
  {
   "cell_type": "markdown",
   "id": "dcb9344b",
   "metadata": {},
   "source": [
    "#### flights data"
   ]
  },
  {
   "cell_type": "markdown",
   "id": "24dbf2a7",
   "metadata": {},
   "source": [
    "##### 1) How many flights were there from JFK to SLC? int"
   ]
  },
  {
   "cell_type": "code",
   "execution_count": 4,
   "id": "70d5edf4",
   "metadata": {},
   "outputs": [
    {
     "data": {
      "text/plain": [
       "2113"
      ]
     },
     "execution_count": 4,
     "metadata": {},
     "output_type": "execute_result"
    }
   ],
   "source": [
    "len(flights_df[(flights_df.origin == 'JFK') & (flights_df.dest == 'SLC')])"
   ]
  },
  {
   "cell_type": "markdown",
   "id": "cab8053d",
   "metadata": {},
   "source": [
    "##### 2) How many airlines fly to SLC? int"
   ]
  },
  {
   "cell_type": "code",
   "execution_count": 5,
   "id": "26464ae4",
   "metadata": {},
   "outputs": [
    {
     "data": {
      "text/plain": [
       "2467"
      ]
     },
     "execution_count": 5,
     "metadata": {},
     "output_type": "execute_result"
    }
   ],
   "source": [
    "len(flights_df[flights_df.dest == 'SLC'])"
   ]
  },
  {
   "cell_type": "markdown",
   "id": "33b68608",
   "metadata": {},
   "source": [
    "##### 3) What is the average arrival delay for flights to RDU? float"
   ]
  },
  {
   "cell_type": "code",
   "execution_count": 6,
   "id": "c7e29348",
   "metadata": {},
   "outputs": [
    {
     "data": {
      "text/plain": [
       "10.052380952380952"
      ]
     },
     "execution_count": 6,
     "metadata": {},
     "output_type": "execute_result"
    }
   ],
   "source": [
    "flights_df[flights_df.dest == 'RDU'].arr_delay.mean()"
   ]
  },
  {
   "cell_type": "markdown",
   "id": "2206f4ae",
   "metadata": {},
   "source": [
    "##### 4) What proportion of flights to SEA come from the two NYC airports (LGA and JFK)?  float"
   ]
  },
  {
   "cell_type": "code",
   "execution_count": 7,
   "id": "69d893f5",
   "metadata": {},
   "outputs": [
    {
     "name": "stdout",
     "output_type": "stream",
     "text": [
      "0.5332653581442773\n"
     ]
    }
   ],
   "source": [
    "flightsToSEA = flights_df[flights_df.dest == 'SEA']\n",
    "flightsFrom = flightsToSEA[(flightsToSEA.origin == 'LGA') | (flightsToSEA.origin == 'JFK')]\n",
    "\n",
    "print(len(flightsFrom) / len(flightsToSEA))"
   ]
  },
  {
   "cell_type": "markdown",
   "id": "8c6e6d41",
   "metadata": {},
   "source": [
    "##### 5) Which date has the largest average depature delay? Pd slice with date and float. Please make date a column. Preferred format is 2013/1/1 (y/m/d)"
   ]
  },
  {
   "cell_type": "code",
   "execution_count": 48,
   "id": "330dfde6",
   "metadata": {},
   "outputs": [],
   "source": [
    "flights_avg_by_date = (\n",
    "    flights_df.copy()\n",
    "    .assign(date=lambda row: pd.to_datetime(row[['year', 'month', 'day']]))\n",
    "    .groupby('date')\n",
    "    .mean()\n",
    ")"
   ]
  },
  {
   "cell_type": "code",
   "execution_count": 49,
   "id": "ecbea454",
   "metadata": {},
   "outputs": [
    {
     "data": {
      "text/html": [
       "<div>\n",
       "<style scoped>\n",
       "    .dataframe tbody tr th:only-of-type {\n",
       "        vertical-align: middle;\n",
       "    }\n",
       "\n",
       "    .dataframe tbody tr th {\n",
       "        vertical-align: top;\n",
       "    }\n",
       "\n",
       "    .dataframe thead th {\n",
       "        text-align: right;\n",
       "    }\n",
       "</style>\n",
       "<table border=\"1\" class=\"dataframe\">\n",
       "  <thead>\n",
       "    <tr style=\"text-align: right;\">\n",
       "      <th></th>\n",
       "      <th>dep_delay</th>\n",
       "    </tr>\n",
       "    <tr>\n",
       "      <th>date</th>\n",
       "      <th></th>\n",
       "    </tr>\n",
       "  </thead>\n",
       "  <tbody>\n",
       "    <tr>\n",
       "      <th>2013-03-08</th>\n",
       "      <td>83.536921</td>\n",
       "    </tr>\n",
       "  </tbody>\n",
       "</table>\n",
       "</div>"
      ],
      "text/plain": [
       "            dep_delay\n",
       "date                 \n",
       "2013-03-08  83.536921"
      ]
     },
     "execution_count": 49,
     "metadata": {},
     "output_type": "execute_result"
    }
   ],
   "source": [
    "flights_avg_by_date.nlargest(1, 'dep_delay')[['dep_delay']]"
   ]
  },
  {
   "cell_type": "markdown",
   "id": "b38e9da1",
   "metadata": {},
   "source": [
    "##### 6) Which date has the largest average arrival delay? pd slice with date and float"
   ]
  },
  {
   "cell_type": "code",
   "execution_count": 50,
   "id": "9819db8e",
   "metadata": {},
   "outputs": [
    {
     "data": {
      "text/html": [
       "<div>\n",
       "<style scoped>\n",
       "    .dataframe tbody tr th:only-of-type {\n",
       "        vertical-align: middle;\n",
       "    }\n",
       "\n",
       "    .dataframe tbody tr th {\n",
       "        vertical-align: top;\n",
       "    }\n",
       "\n",
       "    .dataframe thead th {\n",
       "        text-align: right;\n",
       "    }\n",
       "</style>\n",
       "<table border=\"1\" class=\"dataframe\">\n",
       "  <thead>\n",
       "    <tr style=\"text-align: right;\">\n",
       "      <th></th>\n",
       "      <th>arr_delay</th>\n",
       "    </tr>\n",
       "    <tr>\n",
       "      <th>date</th>\n",
       "      <th></th>\n",
       "    </tr>\n",
       "  </thead>\n",
       "  <tbody>\n",
       "    <tr>\n",
       "      <th>2013-03-08</th>\n",
       "      <td>85.862155</td>\n",
       "    </tr>\n",
       "  </tbody>\n",
       "</table>\n",
       "</div>"
      ],
      "text/plain": [
       "            arr_delay\n",
       "date                 \n",
       "2013-03-08  85.862155"
      ]
     },
     "execution_count": 50,
     "metadata": {},
     "output_type": "execute_result"
    }
   ],
   "source": [
    "flights_avg_by_date_df.nlargest(1, 'arr_delay')[['arr_delay']]"
   ]
  },
  {
   "cell_type": "markdown",
   "id": "5d07ea74",
   "metadata": {},
   "source": [
    "##### 7) Which flight departing LGA or JFK in 2013 flew the fastest? pd slice with tailnumber and speed. speed = distance/airtime"
   ]
  },
  {
   "cell_type": "code",
   "execution_count": 51,
   "id": "82ff8fee",
   "metadata": {},
   "outputs": [
    {
     "name": "stdout",
     "output_type": "stream",
     "text": [
      "       tailnum  avg_speed\n",
      "216447  N666DN  11.723077\n"
     ]
    }
   ],
   "source": [
    "print(\n",
    "    flights_df[(flights_df.origin == 'LGA') | (flights_df.origin == 'JFK')]\n",
    "    .assign(avg_speed=lambda row: row['distance'] / row['air_time'])\n",
    "    .nlargest(1, 'avg_speed')\n",
    "    [['tailnum', 'avg_speed']]\n",
    ")"
   ]
  },
  {
   "cell_type": "markdown",
   "id": "ed75b8c0",
   "metadata": {},
   "source": [
    "##### 8) Replace all nans in the weather pd dataframe with 0s. Pd with no nans"
   ]
  },
  {
   "cell_type": "code",
   "execution_count": 15,
   "id": "2afba609",
   "metadata": {},
   "outputs": [
    {
     "data": {
      "text/html": [
       "<div>\n",
       "<style scoped>\n",
       "    .dataframe tbody tr th:only-of-type {\n",
       "        vertical-align: middle;\n",
       "    }\n",
       "\n",
       "    .dataframe tbody tr th {\n",
       "        vertical-align: top;\n",
       "    }\n",
       "\n",
       "    .dataframe thead th {\n",
       "        text-align: right;\n",
       "    }\n",
       "</style>\n",
       "<table border=\"1\" class=\"dataframe\">\n",
       "  <thead>\n",
       "    <tr style=\"text-align: right;\">\n",
       "      <th></th>\n",
       "      <th>origin</th>\n",
       "      <th>year</th>\n",
       "      <th>month</th>\n",
       "      <th>day</th>\n",
       "      <th>hour</th>\n",
       "      <th>temp</th>\n",
       "      <th>dewp</th>\n",
       "      <th>humid</th>\n",
       "      <th>wind_dir</th>\n",
       "      <th>wind_speed</th>\n",
       "      <th>wind_gust</th>\n",
       "      <th>precip</th>\n",
       "      <th>pressure</th>\n",
       "      <th>visib</th>\n",
       "    </tr>\n",
       "  </thead>\n",
       "  <tbody>\n",
       "    <tr>\n",
       "      <th>0</th>\n",
       "      <td>EWR</td>\n",
       "      <td>2013</td>\n",
       "      <td>1.0</td>\n",
       "      <td>1.0</td>\n",
       "      <td>0.0</td>\n",
       "      <td>37.04</td>\n",
       "      <td>21.92</td>\n",
       "      <td>53.97</td>\n",
       "      <td>230.0</td>\n",
       "      <td>10.35702</td>\n",
       "      <td>11.918651</td>\n",
       "      <td>0.0</td>\n",
       "      <td>1013.9</td>\n",
       "      <td>10.0</td>\n",
       "    </tr>\n",
       "    <tr>\n",
       "      <th>1</th>\n",
       "      <td>EWR</td>\n",
       "      <td>2013</td>\n",
       "      <td>1.0</td>\n",
       "      <td>1.0</td>\n",
       "      <td>1.0</td>\n",
       "      <td>37.04</td>\n",
       "      <td>21.92</td>\n",
       "      <td>53.97</td>\n",
       "      <td>230.0</td>\n",
       "      <td>13.80936</td>\n",
       "      <td>15.891535</td>\n",
       "      <td>0.0</td>\n",
       "      <td>1013.0</td>\n",
       "      <td>10.0</td>\n",
       "    </tr>\n",
       "    <tr>\n",
       "      <th>2</th>\n",
       "      <td>EWR</td>\n",
       "      <td>2013</td>\n",
       "      <td>1.0</td>\n",
       "      <td>1.0</td>\n",
       "      <td>2.0</td>\n",
       "      <td>37.94</td>\n",
       "      <td>21.92</td>\n",
       "      <td>52.09</td>\n",
       "      <td>230.0</td>\n",
       "      <td>12.65858</td>\n",
       "      <td>14.567241</td>\n",
       "      <td>0.0</td>\n",
       "      <td>1012.6</td>\n",
       "      <td>10.0</td>\n",
       "    </tr>\n",
       "    <tr>\n",
       "      <th>3</th>\n",
       "      <td>EWR</td>\n",
       "      <td>2013</td>\n",
       "      <td>1.0</td>\n",
       "      <td>1.0</td>\n",
       "      <td>3.0</td>\n",
       "      <td>37.94</td>\n",
       "      <td>23.00</td>\n",
       "      <td>54.51</td>\n",
       "      <td>230.0</td>\n",
       "      <td>13.80936</td>\n",
       "      <td>15.891535</td>\n",
       "      <td>0.0</td>\n",
       "      <td>1012.7</td>\n",
       "      <td>10.0</td>\n",
       "    </tr>\n",
       "    <tr>\n",
       "      <th>4</th>\n",
       "      <td>EWR</td>\n",
       "      <td>2013</td>\n",
       "      <td>1.0</td>\n",
       "      <td>1.0</td>\n",
       "      <td>4.0</td>\n",
       "      <td>37.94</td>\n",
       "      <td>24.08</td>\n",
       "      <td>57.04</td>\n",
       "      <td>240.0</td>\n",
       "      <td>14.96014</td>\n",
       "      <td>17.215830</td>\n",
       "      <td>0.0</td>\n",
       "      <td>1012.8</td>\n",
       "      <td>10.0</td>\n",
       "    </tr>\n",
       "    <tr>\n",
       "      <th>...</th>\n",
       "      <td>...</td>\n",
       "      <td>...</td>\n",
       "      <td>...</td>\n",
       "      <td>...</td>\n",
       "      <td>...</td>\n",
       "      <td>...</td>\n",
       "      <td>...</td>\n",
       "      <td>...</td>\n",
       "      <td>...</td>\n",
       "      <td>...</td>\n",
       "      <td>...</td>\n",
       "      <td>...</td>\n",
       "      <td>...</td>\n",
       "      <td>...</td>\n",
       "    </tr>\n",
       "    <tr>\n",
       "      <th>8714</th>\n",
       "      <td>JFK</td>\n",
       "      <td>2013</td>\n",
       "      <td>9.0</td>\n",
       "      <td>2.0</td>\n",
       "      <td>20.0</td>\n",
       "      <td>75.20</td>\n",
       "      <td>73.40</td>\n",
       "      <td>94.14</td>\n",
       "      <td>200.0</td>\n",
       "      <td>4.60312</td>\n",
       "      <td>5.297178</td>\n",
       "      <td>0.0</td>\n",
       "      <td>0.0</td>\n",
       "      <td>4.0</td>\n",
       "    </tr>\n",
       "    <tr>\n",
       "      <th>8715</th>\n",
       "      <td>JFK</td>\n",
       "      <td>2013</td>\n",
       "      <td>10.0</td>\n",
       "      <td>23.0</td>\n",
       "      <td>10.0</td>\n",
       "      <td>48.92</td>\n",
       "      <td>39.02</td>\n",
       "      <td>68.51</td>\n",
       "      <td>60.0</td>\n",
       "      <td>4.60312</td>\n",
       "      <td>5.297178</td>\n",
       "      <td>0.0</td>\n",
       "      <td>1008.1</td>\n",
       "      <td>10.0</td>\n",
       "    </tr>\n",
       "    <tr>\n",
       "      <th>8716</th>\n",
       "      <td>JFK</td>\n",
       "      <td>2013</td>\n",
       "      <td>10.0</td>\n",
       "      <td>23.0</td>\n",
       "      <td>11.0</td>\n",
       "      <td>48.92</td>\n",
       "      <td>39.02</td>\n",
       "      <td>68.51</td>\n",
       "      <td>40.0</td>\n",
       "      <td>4.60312</td>\n",
       "      <td>5.297178</td>\n",
       "      <td>0.0</td>\n",
       "      <td>1008.5</td>\n",
       "      <td>10.0</td>\n",
       "    </tr>\n",
       "    <tr>\n",
       "      <th>8717</th>\n",
       "      <td>JFK</td>\n",
       "      <td>2013</td>\n",
       "      <td>12.0</td>\n",
       "      <td>17.0</td>\n",
       "      <td>5.0</td>\n",
       "      <td>26.96</td>\n",
       "      <td>10.94</td>\n",
       "      <td>50.34</td>\n",
       "      <td>40.0</td>\n",
       "      <td>4.60312</td>\n",
       "      <td>5.297178</td>\n",
       "      <td>0.0</td>\n",
       "      <td>1023.9</td>\n",
       "      <td>10.0</td>\n",
       "    </tr>\n",
       "    <tr>\n",
       "      <th>8718</th>\n",
       "      <td>LGA</td>\n",
       "      <td>2013</td>\n",
       "      <td>8.0</td>\n",
       "      <td>22.0</td>\n",
       "      <td>22.0</td>\n",
       "      <td>75.92</td>\n",
       "      <td>66.92</td>\n",
       "      <td>73.68</td>\n",
       "      <td>210.0</td>\n",
       "      <td>8.05546</td>\n",
       "      <td>9.270062</td>\n",
       "      <td>0.0</td>\n",
       "      <td>1011.9</td>\n",
       "      <td>10.0</td>\n",
       "    </tr>\n",
       "  </tbody>\n",
       "</table>\n",
       "<p>8719 rows × 14 columns</p>\n",
       "</div>"
      ],
      "text/plain": [
       "     origin  year  month   day  hour   temp   dewp  humid  wind_dir  \\\n",
       "0       EWR  2013    1.0   1.0   0.0  37.04  21.92  53.97     230.0   \n",
       "1       EWR  2013    1.0   1.0   1.0  37.04  21.92  53.97     230.0   \n",
       "2       EWR  2013    1.0   1.0   2.0  37.94  21.92  52.09     230.0   \n",
       "3       EWR  2013    1.0   1.0   3.0  37.94  23.00  54.51     230.0   \n",
       "4       EWR  2013    1.0   1.0   4.0  37.94  24.08  57.04     240.0   \n",
       "...     ...   ...    ...   ...   ...    ...    ...    ...       ...   \n",
       "8714    JFK  2013    9.0   2.0  20.0  75.20  73.40  94.14     200.0   \n",
       "8715    JFK  2013   10.0  23.0  10.0  48.92  39.02  68.51      60.0   \n",
       "8716    JFK  2013   10.0  23.0  11.0  48.92  39.02  68.51      40.0   \n",
       "8717    JFK  2013   12.0  17.0   5.0  26.96  10.94  50.34      40.0   \n",
       "8718    LGA  2013    8.0  22.0  22.0  75.92  66.92  73.68     210.0   \n",
       "\n",
       "      wind_speed  wind_gust  precip  pressure  visib  \n",
       "0       10.35702  11.918651     0.0    1013.9   10.0  \n",
       "1       13.80936  15.891535     0.0    1013.0   10.0  \n",
       "2       12.65858  14.567241     0.0    1012.6   10.0  \n",
       "3       13.80936  15.891535     0.0    1012.7   10.0  \n",
       "4       14.96014  17.215830     0.0    1012.8   10.0  \n",
       "...          ...        ...     ...       ...    ...  \n",
       "8714     4.60312   5.297178     0.0       0.0    4.0  \n",
       "8715     4.60312   5.297178     0.0    1008.1   10.0  \n",
       "8716     4.60312   5.297178     0.0    1008.5   10.0  \n",
       "8717     4.60312   5.297178     0.0    1023.9   10.0  \n",
       "8718     8.05546   9.270062     0.0    1011.9   10.0  \n",
       "\n",
       "[8719 rows x 14 columns]"
      ]
     },
     "execution_count": 15,
     "metadata": {},
     "output_type": "execute_result"
    }
   ],
   "source": [
    "weather_df.fillna(0)"
   ]
  },
  {
   "cell_type": "markdown",
   "id": "6f11080b",
   "metadata": {},
   "source": [
    "#### weather data\n",
    "use weather_np"
   ]
  },
  {
   "cell_type": "code",
   "execution_count": 16,
   "id": "30ca5dea",
   "metadata": {},
   "outputs": [
    {
     "data": {
      "text/plain": [
       "{'origin': 0,\n",
       " 'year': 1,\n",
       " 'month': 2,\n",
       " 'day': 3,\n",
       " 'hour': 4,\n",
       " 'temp': 5,\n",
       " 'dewp': 6,\n",
       " 'humid': 7,\n",
       " 'wind_dir': 8,\n",
       " 'wind_speed': 9,\n",
       " 'wind_gust': 10,\n",
       " 'precip': 11,\n",
       " 'pressure': 12,\n",
       " 'visib': 13}"
      ]
     },
     "execution_count": 16,
     "metadata": {},
     "output_type": "execute_result"
    }
   ],
   "source": [
    "weather_cols = weather_df.columns\n",
    "weather_header = {}\n",
    "for x in range(len(weather_cols)):\n",
    "    weather_header[weather_cols[x]] = x\n",
    "weather_header"
   ]
  },
  {
   "cell_type": "code",
   "execution_count": 17,
   "id": "9f4083af",
   "metadata": {},
   "outputs": [
    {
     "data": {
      "text/plain": [
       "array([['EWR', 2013, 1.0, ..., 0.0, 1013.9, 10.0],\n",
       "       ['EWR', 2013, 1.0, ..., 0.0, 1013.0, 10.0],\n",
       "       ['EWR', 2013, 1.0, ..., 0.0, 1012.6, 10.0],\n",
       "       ...,\n",
       "       ['JFK', 2013, 10.0, ..., 0.0, 1008.5, 10.0],\n",
       "       ['JFK', 2013, 12.0, ..., 0.0, 1023.9, 10.0],\n",
       "       ['LGA', 2013, 8.0, ..., 0.0, 1011.9, 10.0]], dtype=object)"
      ]
     },
     "execution_count": 17,
     "metadata": {},
     "output_type": "execute_result"
    }
   ],
   "source": [
    "weather_np"
   ]
  },
  {
   "cell_type": "markdown",
   "id": "a5dad071",
   "metadata": {},
   "source": [
    "##### 9) How many observations were made in Feburary? int"
   ]
  },
  {
   "cell_type": "code",
   "execution_count": 18,
   "id": "14f4559d",
   "metadata": {},
   "outputs": [
    {
     "data": {
      "text/plain": [
       "array([['EWR', 2013, 2.0, 1.0, 0.0, 33.08, 15.08, 47.1, 270.0, 20.71404,\n",
       "        23.8373029512, 0.0, 1006.6, 10.0],\n",
       "       ['EWR', 2013, 2.0, 1.0, 1.0, 32.0, 19.04, 58.37, 250.0, 17.2617,\n",
       "        19.864419126, 0.0, 1007.3, 10.0],\n",
       "       ['EWR', 2013, 2.0, 1.0, 2.0, 32.0, 10.04, 39.38, 260.0, 28.7695,\n",
       "        33.10736521, 0.0, 1008.0, 10.0],\n",
       "       ['EWR', 2013, 2.0, 1.0, 3.0, 30.92, 6.98, 35.84, 260.0, 27.61872,\n",
       "        31.7830706016, 0.0, 1008.5, 10.0],\n",
       "       ['EWR', 2013, 2.0, 1.0, 4.0, 30.02, 8.06, 39.03, 260.0, 14.96014,\n",
       "        17.2158299092, 0.0, 1008.9, 10.0]], dtype=object)"
      ]
     },
     "execution_count": 18,
     "metadata": {},
     "output_type": "execute_result"
    }
   ],
   "source": [
    "feb_observations = []\n",
    "for obs in weather_np:\n",
    "    if obs[weather_header['month']] == 2.0:\n",
    "        feb_observations.append(obs)\n",
    "        \n",
    "feb_observations = np.array(feb_observations)\n",
    "feb_observations[:5]"
   ]
  },
  {
   "cell_type": "code",
   "execution_count": 19,
   "id": "c395dd79",
   "metadata": {},
   "outputs": [
    {
     "data": {
      "text/plain": [
       "671"
      ]
     },
     "execution_count": 19,
     "metadata": {},
     "output_type": "execute_result"
    }
   ],
   "source": [
    "len(feb_observations)"
   ]
  },
  {
   "cell_type": "markdown",
   "id": "e9664ca2",
   "metadata": {},
   "source": [
    "##### 10) What was the mean for humidity in February? float"
   ]
  },
  {
   "cell_type": "code",
   "execution_count": 20,
   "id": "5f96cb72",
   "metadata": {},
   "outputs": [
    {
     "data": {
      "text/plain": [
       "62.918152011922515"
      ]
     },
     "execution_count": 20,
     "metadata": {},
     "output_type": "execute_result"
    }
   ],
   "source": [
    "feb_observations[:, [weather_header['humid']]].mean()"
   ]
  },
  {
   "cell_type": "markdown",
   "id": "95218cb1",
   "metadata": {},
   "source": [
    "##### 11) What was the std for humidity in February? Float"
   ]
  },
  {
   "cell_type": "code",
   "execution_count": 21,
   "id": "dc8c69cb",
   "metadata": {},
   "outputs": [
    {
     "data": {
      "text/plain": [
       "20.33690087674334"
      ]
     },
     "execution_count": 21,
     "metadata": {},
     "output_type": "execute_result"
    }
   ],
   "source": [
    "feb_observations[:, [weather_header['humid']]].std()"
   ]
  }
 ],
 "metadata": {
  "kernelspec": {
   "display_name": "Python 3",
   "language": "python",
   "name": "python3"
  },
  "language_info": {
   "codemirror_mode": {
    "name": "ipython",
    "version": 3
   },
   "file_extension": ".py",
   "mimetype": "text/x-python",
   "name": "python",
   "nbconvert_exporter": "python",
   "pygments_lexer": "ipython3",
   "version": "3.8.8"
  }
 },
 "nbformat": 4,
 "nbformat_minor": 5
}
